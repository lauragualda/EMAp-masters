{
 "cells": [
  {
   "cell_type": "markdown",
   "metadata": {},
   "source": [
    "# Introdução à Recuperação de Informações\n",
    "\n",
    "## Lista de exercícios 2\n",
    "\n",
    "Todos os exercícios requerem uma implementação funcional do problema, no corpo do notebook. Para cada exercício consultas de teste devem ser propostas para demonstrar que a implementação atende aos requisitos do exercício.\n",
    "As resposta devem ser enviadas como um notebook (.ipynb) para o professor."
   ]
  },
  {
   "cell_type": "code",
   "execution_count": 235,
   "metadata": {
    "collapsed": false
   },
   "outputs": [
    {
     "name": "stdout",
     "output_type": "stream",
     "text": [
      "Populating the interactive namespace from numpy and matplotlib\n"
     ]
    },
    {
     "name": "stderr",
     "output_type": "stream",
     "text": [
      "WARNING: pylab import has clobbered these variables: ['log']\n",
      "`%matplotlib` prevents importing * from pylab and numpy\n"
     ]
    }
   ],
   "source": [
    "from nltk.corpus import machado\n",
    "from nltk.tokenize import WordPunctTokenizer\n",
    "from nltk.corpus import stopwords\n",
    "from nltk.text import TextCollection\n",
    "import string\n",
    "from collections import defaultdict\n",
    "from nltk.stem.snowball import PortugueseStemmer\n",
    "import nltk\n",
    "import numpy as np\n",
    "from math import log\n",
    "from sklearn.feature_extraction.text import TfidfVectorizer\n",
    "import matplotlib.pyplot as plt\n",
    "import plotly.plotly as py\n",
    "%pylab inline "
   ]
  },
  {
   "cell_type": "markdown",
   "metadata": {},
   "source": [
    "### Exercício 1: Similaridade por Cosseno.\n",
    "\n",
    "Com base na metodologia apresentada na Prática 2, usando o corpus de Machado, Construa vetorizações, binárias, por frequência e por tf-idf. Compare a ordenação dos resultados para uma consulta qualquer, com pelo menos 3 palavras. Para a ordenação dos resultados, use o cosseno entre os vetores da consulta e dos documentos."
   ]
  },
  {
   "cell_type": "code",
   "execution_count": 236,
   "metadata": {
    "collapsed": false
   },
   "outputs": [
    {
     "data": {
      "text/plain": [
       "246"
      ]
     },
     "execution_count": 236,
     "metadata": {},
     "output_type": "execute_result"
    }
   ],
   "source": [
    "textos = [machado.raw(id) for id in machado.fileids()]\n",
    "len(textos)"
   ]
  },
  {
   "cell_type": "code",
   "execution_count": 237,
   "metadata": {
    "collapsed": false
   },
   "outputs": [
    {
     "data": {
      "text/plain": [
       "7483"
      ]
     },
     "execution_count": 237,
     "metadata": {},
     "output_type": "execute_result"
    }
   ],
   "source": [
    "tok_textos = [WordPunctTokenizer().tokenize(t.lower()) for t in textos]\n",
    "len(set(tok_textos[0]))"
   ]
  },
  {
   "cell_type": "code",
   "execution_count": 238,
   "metadata": {
    "collapsed": false
   },
   "outputs": [
    {
     "name": "stdout",
     "output_type": "stream",
     "text": [
      "66169\n"
     ]
    },
    {
     "data": {
      "text/plain": [
       "['caranguejos', 'escrevessem', 'nordeste']"
      ]
     },
     "execution_count": 238,
     "metadata": {},
     "output_type": "execute_result"
    }
   ],
   "source": [
    "vocab = set([])\n",
    "for t in tok_textos:\n",
    "    vocab = vocab.union(set(t))\n",
    "vocab = map(lambda x:x.lower(),vocab)\n",
    "vocab = list(set(vocab))\n",
    "print(len(vocab))\n",
    "vocab[:3]"
   ]
  },
  {
   "cell_type": "code",
   "execution_count": 239,
   "metadata": {
    "collapsed": true
   },
   "outputs": [],
   "source": [
    "T = nltk.TextCollection(tok_textos)"
   ]
  },
  {
   "cell_type": "code",
   "execution_count": 240,
   "metadata": {
    "collapsed": true
   },
   "outputs": [],
   "source": [
    "q = \"amor moça bonita\"\n",
    "qt = WordPunctTokenizer().tokenize(q.lower())"
   ]
  },
  {
   "cell_type": "markdown",
   "metadata": {},
   "source": [
    "#### Vetorização binária:"
   ]
  },
  {
   "cell_type": "code",
   "execution_count": 241,
   "metadata": {
    "collapsed": true
   },
   "outputs": [],
   "source": [
    "binary_matrix = np.zeros((len(tok_textos),len(qt)))\n",
    "for j,w in enumerate(qt):\n",
    "    for i in range(len(tok_textos)):\n",
    "        if w in tok_textos[i]:\n",
    "            binary_matrix[i,j] = 1\n",
    "        else:\n",
    "            binary_matrix[i,j] = 0"
   ]
  },
  {
   "cell_type": "code",
   "execution_count": 242,
   "metadata": {
    "collapsed": false
   },
   "outputs": [],
   "source": [
    "from numpy.linalg import norm\n",
    "MN = np.array([r/norm(r) if norm(r) !=0 else np.zeros(len(r)) for r in binary_matrix])"
   ]
  },
  {
   "cell_type": "code",
   "execution_count": 243,
   "metadata": {
    "collapsed": true
   },
   "outputs": [],
   "source": [
    "def ordem_bin(q):\n",
    "    return [np.dot(q,r) for r in MN]"
   ]
  },
  {
   "cell_type": "code",
   "execution_count": 244,
   "metadata": {
    "collapsed": true
   },
   "outputs": [],
   "source": [
    "A = np.array([1, 1, 1])\n",
    "norm(A)\n",
    "B = np.array([w/norm(A) for w in A])"
   ]
  },
  {
   "cell_type": "code",
   "execution_count": 245,
   "metadata": {
    "collapsed": true
   },
   "outputs": [],
   "source": [
    "r = ordem_bin(B)\n",
    "v=filter(lambda x : x[0]!=0.0, zip(r,range(len(tok_textos))))\n",
    "resposta = sorted(v, reverse=True) "
   ]
  },
  {
   "cell_type": "code",
   "execution_count": 246,
   "metadata": {
    "collapsed": false
   },
   "outputs": [
    {
     "data": {
      "image/png": "[encoded data removed]",
      "text/plain": [
       "<matplotlib.figure.Figure at 0x219dacb9b38>"
      ]
     },
     "metadata": {},
     "output_type": "display_data"
    }
   ],
   "source": [
    "fig_bin = plt.figure(figsize=(10,6))\n",
    "ax = plt.gca()\n",
    "docs = 2\n",
    "vecs = [B[:2]]\n",
    "for d in resposta[:docs]:\n",
    "    vecs.append(MN[d[1]][:2])\n",
    "    x,y = MN[d[1]][:2]\n",
    "    plt.text(x,y,'{}'.format(d[1]))\n",
    "U, V = zip(*vecs)\n",
    "x,y = zeros(docs+1), zeros(docs+1)\n",
    "plt.text(U[0],V[0],'consulta')\n",
    "plt.grid()\n",
    "ax.set_xlim(0,1)\n",
    "ax.set_ylim(0,1)\n",
    "ax.set_xlabel('amor')\n",
    "ax.set_ylabel('moça')\n",
    "ax.quiver(x,y,U,V,angles='xy',scale_units='xy', scale=1.0);"
   ]
  },
  {
   "cell_type": "markdown",
   "metadata": {},
   "source": [
    "#### Vetorização por frequência:"
   ]
  },
  {
   "cell_type": "code",
   "execution_count": 247,
   "metadata": {
    "collapsed": true
   },
   "outputs": [],
   "source": [
    "def freq_w_d(w,d):\n",
    "    freq = []\n",
    "    w = w.lower()\n",
    "    for i in d:\n",
    "        if i == w:\n",
    "            freq.append(i)\n",
    "        else:\n",
    "            pass\n",
    "    return len(freq)"
   ]
  },
  {
   "cell_type": "code",
   "execution_count": 248,
   "metadata": {
    "collapsed": true
   },
   "outputs": [],
   "source": [
    "freq_matrix = np.zeros((len(tok_textos),len(qt)))\n",
    "for j,w in enumerate(qt):\n",
    "    for i in range(len(tok_textos)):\n",
    "        if freq_w_d(qt[j], tok_textos[i]) == 0:\n",
    "            freq_matrix[i,j] = 0\n",
    "        else:\n",
    "            freq_matrix[i,j] = 1 + log(freq_w_d(qt[j], tok_textos[i]))"
   ]
  },
  {
   "cell_type": "code",
   "execution_count": 249,
   "metadata": {
    "collapsed": true
   },
   "outputs": [],
   "source": [
    "from numpy.linalg import norm\n",
    "MN_freq = np.array([r/norm(r) if norm(r) !=0 else np.zeros(len(r)) for r in freq_matrix])     "
   ]
  },
  {
   "cell_type": "code",
   "execution_count": 250,
   "metadata": {
    "collapsed": true
   },
   "outputs": [],
   "source": [
    "def ordem_freq(q):\n",
    "    return [np.dot(q,r) for r in MN_freq]"
   ]
  },
  {
   "cell_type": "code",
   "execution_count": 251,
   "metadata": {
    "collapsed": true
   },
   "outputs": [],
   "source": [
    "def n_t(x):\n",
    "    x = x.lower()\n",
    "    y = 0\n",
    "    for i in range(len(tok_textos)):\n",
    "        if x in tok_textos[i]:\n",
    "            y += 1\n",
    "            \n",
    "        else:\n",
    "            pass\n",
    "        return y"
   ]
  },
  {
   "cell_type": "code",
   "execution_count": 252,
   "metadata": {
    "collapsed": false
   },
   "outputs": [],
   "source": [
    "C = np.array([log(1 + len(tok_textos)/n_t(qt[0])), log(1 + len(tok_textos)/n_t(qt[1])), log(1 + len(tok_textos)/n_t(qt[2]))])\n",
    "D = np.array([w/norm(C) for w in C])\n",
    "r_freq = ordem_bin(D)\n",
    "v_freq=filter(lambda x : x[0]!=0.0, zip(r_freq,range(len(tok_textos))))\n",
    "resposta_freq = sorted(v_freq, reverse=True) "
   ]
  },
  {
   "cell_type": "code",
   "execution_count": 253,
   "metadata": {
    "collapsed": false
   },
   "outputs": [
    {
     "data": {
      "image/png": "[encoded data removed]",
      "text/plain": [
       "<matplotlib.figure.Figure at 0x219cfcd6a58>"
      ]
     },
     "metadata": {},
     "output_type": "display_data"
    }
   ],
   "source": [
    "fig_freq = plt.figure(figsize=(10,6))\n",
    "ax = plt.gca()\n",
    "docs = 2\n",
    "vecs = [D[:2]]\n",
    "for d in resposta[:docs]:\n",
    "    vecs.append(MN_freq[d[1]][:2])\n",
    "    x,y = MN_freq[d[1]][:2]\n",
    "    plt.text(x,y,'{}'.format(d[1]))\n",
    "U, V = zip(*vecs)\n",
    "x,y = zeros(docs+1), zeros(docs+1)\n",
    "plt.text(U[0],V[0],'consulta')\n",
    "plt.grid()\n",
    "ax.set_xlim(0,1)\n",
    "ax.set_ylim(0,1)\n",
    "ax.set_xlabel('amor')\n",
    "ax.set_ylabel('moça')\n",
    "ax.quiver(x,y,U,V,angles='xy',scale_units='xy', scale=1.0);"
   ]
  },
  {
   "cell_type": "markdown",
   "metadata": {},
   "source": [
    "#### Vetorização por TF-IDF:"
   ]
  },
  {
   "cell_type": "code",
   "execution_count": 254,
   "metadata": {
    "collapsed": false
   },
   "outputs": [
    {
     "data": {
      "text/plain": [
       "(246, 3)"
      ]
     },
     "execution_count": 254,
     "metadata": {},
     "output_type": "execute_result"
    }
   ],
   "source": [
    "tfidf_matrix = np.zeros((len(tok_textos),len(qt)))\n",
    "for j,w in enumerate(qt):\n",
    "    for i, d in enumerate(tok_textos):\n",
    "        tfidf_matrix[i,j] = T.tf_idf(w,d)\n",
    "tfidf_matrix.shape"
   ]
  },
  {
   "cell_type": "code",
   "execution_count": 255,
   "metadata": {
    "collapsed": false
   },
   "outputs": [
    {
     "name": "stdout",
     "output_type": "stream",
     "text": [
      "[ 0.25096031  0.4777429   0.84189111]\n"
     ]
    }
   ],
   "source": [
    "from numpy.linalg import norm\n",
    "MN = np.array([r/norm(r) if norm(r) !=0 else np.zeros(len(r)) for r in tfidf_matrix])\n",
    "def ordem(q):\n",
    "    return [np.dot(q,r) for r in MN]\n",
    "# calculando o tf-idf dos termos na consulta, considerando q um documento da Coleção...\n",
    "# O que equivale a vetorizar a consulta.\n",
    "qv = np.array([T.tf_idf(w,qt) for w in qt])\n",
    "qv /= norm(qv)\n",
    "r = ordem(qv)\n",
    "v=filter(lambda x : x[0]!=0.0, zip(r,range(len(tok_textos))))\n",
    "print(qv)\n",
    "resposta = sorted(v, reverse=True) "
   ]
  },
  {
   "cell_type": "code",
   "execution_count": 257,
   "metadata": {
    "collapsed": false
   },
   "outputs": [
    {
     "name": "stdout",
     "output_type": "stream",
     "text": [
      "Ocorrências dos termos de busca no texto 94:  1 1 1\n",
      "Ocorrências dos termos de busca no texto 57:  3 2 2\n",
      "Ocorrências dos termos de busca no texto 68:  3 2 2\n",
      "Ocorrências dos termos de busca no texto 121:  2 4 3\n",
      "Ocorrências dos termos de busca no texto 235:  8 4 6\n",
      "Ocorrências dos termos de busca no texto 123:  1 4 3\n",
      "Ocorrências dos termos de busca no texto 102:  2 1 2\n",
      "Ocorrências dos termos de busca no texto 230:  20 25 15\n",
      "Ocorrências dos termos de busca no texto 241:  4 3 2\n",
      "Ocorrências dos termos de busca no texto 134:  0 1 1\n",
      "Ocorrências dos termos de busca no texto 108:  0 1 1\n",
      "Ocorrências dos termos de busca no texto 34:  0 5 4\n",
      "Ocorrências dos termos de busca no texto 125:  7 7 4\n",
      "Ocorrências dos termos de busca no texto 192:  3 1 2\n",
      "Ocorrências dos termos de busca no texto 3:  36 20 15\n",
      "Ocorrências dos termos de busca no texto 229:  34 46 23\n",
      "Ocorrências dos termos de busca no texto 219:  3 4 2\n",
      "Ocorrências dos termos de busca no texto 72:  1 2 1\n",
      "Ocorrências dos termos de busca no texto 87:  6 6 3\n",
      "Ocorrências dos termos de busca no texto 96:  2 2 1\n",
      "Ocorrências dos termos de busca no texto 27:  10 3 4\n",
      "Ocorrências dos termos de busca no texto 2:  15 16 7\n",
      "Ocorrências dos termos de busca no texto 104:  0 1 3\n",
      "Ocorrências dos termos de busca no texto 6:  19 12 6\n",
      "Ocorrências dos termos de busca no texto 75:  2 5 2\n",
      "Ocorrências dos termos de busca no texto 45:  0 1 4\n",
      "Ocorrências dos termos de busca no texto 191:  7 1 3\n",
      "Ocorrências dos termos de busca no texto 89:  7 1 3\n",
      "Ocorrências dos termos de busca no texto 4:  29 39 13\n",
      "Ocorrências dos termos de busca no texto 244:  15 27 9\n",
      "Ocorrências dos termos de busca no texto 98:  3 0 5\n",
      "Ocorrências dos termos de busca no texto 113:  1 0 2\n",
      "Ocorrências dos termos de busca no texto 101:  1 0 2\n",
      "Ocorrências dos termos de busca no texto 56:  1 3 1\n",
      "Ocorrências dos termos de busca no texto 227:  55 15 14\n",
      "Ocorrências dos termos de busca no texto 95:  1 6 2\n",
      "Ocorrências dos termos de busca no texto 109:  2 0 1\n",
      "Ocorrências dos termos de busca no texto 106:  2 0 1\n",
      "Ocorrências dos termos de busca no texto 5:  26 16 6\n",
      "Ocorrências dos termos de busca no texto 116:  4 3 1\n",
      "Ocorrências dos termos de busca no texto 105:  9 5 2\n",
      "Ocorrências dos termos de busca no texto 129:  0 0 1\n",
      "Ocorrências dos termos de busca no texto 78:  0 0 1\n",
      "Ocorrências dos termos de busca no texto 46:  0 0 1\n",
      "Ocorrências dos termos de busca no texto 61:  0 3 1\n",
      "Ocorrências dos termos de busca no texto 243:  16 1 5\n",
      "Ocorrências dos termos de busca no texto 124:  3 4 1\n",
      "Ocorrências dos termos de busca no texto 92:  3 4 1\n",
      "Ocorrências dos termos de busca no texto 59:  1 28 8\n",
      "Ocorrências dos termos de busca no texto 182:  4 4 1\n",
      "Ocorrências dos termos de busca no texto 79:  0 7 2\n",
      "Ocorrências dos termos de busca no texto 39:  41 52 12\n",
      "Ocorrências dos termos de busca no texto 183:  5 4 1\n",
      "Ocorrências dos termos de busca no texto 52:  12 28 6\n",
      "Ocorrências dos termos de busca no texto 236:  22 5 4\n",
      "Ocorrências dos termos de busca no texto 132:  3 5 1\n",
      "Ocorrências dos termos de busca no texto 83:  6 10 2\n",
      "Ocorrências dos termos de busca no texto 232:  22 36 7\n",
      "Ocorrências dos termos de busca no texto 120:  0 9 2\n",
      "Ocorrências dos termos de busca no texto 131:  2 30 6\n",
      "Ocorrências dos termos de busca no texto 31:  6 1 1\n",
      "Ocorrências dos termos de busca no texto 242:  4 0 1\n",
      "Ocorrências dos termos de busca no texto 85:  4 0 1\n",
      "Ocorrências dos termos de busca no texto 16:  17 8 2\n",
      "Ocorrências dos termos de busca no texto 36:  8 6 1\n",
      "Ocorrências dos termos de busca no texto 103:  1 6 1\n",
      "Ocorrências dos termos de busca no texto 90:  1 6 1\n",
      "Ocorrências dos termos de busca no texto 49:  7 7 1\n",
      "Ocorrências dos termos de busca no texto 71:  4 20 3\n",
      "Ocorrências dos termos de busca no texto 193:  130 56 13\n",
      "Ocorrências dos termos de busca no texto 28:  16 16 2\n",
      "Ocorrências dos termos de busca no texto 19:  15 17 2\n",
      "Ocorrências dos termos de busca no texto 64:  1 7 1\n",
      "Ocorrências dos termos de busca no texto 228:  17 42 5\n",
      "Ocorrências dos termos de busca no texto 77:  5 0 1\n",
      "Ocorrências dos termos de busca no texto 29:  9 47 6\n",
      "Ocorrências dos termos de busca no texto 245:  9 33 4\n",
      "Ocorrências dos termos de busca no texto 84:  4 9 1\n",
      "Ocorrências dos termos de busca no texto 136:  5 17 2\n",
      "Ocorrências dos termos de busca no texto 44:  34 59 6\n",
      "Ocorrências dos termos de busca no texto 67:  3 17 2\n",
      "Ocorrências dos termos de busca no texto 38:  11 21 2\n",
      "Ocorrências dos termos de busca no texto 55:  10 21 2\n",
      "Ocorrências dos termos de busca no texto 128:  2 10 1\n",
      "Ocorrências dos termos de busca no texto 126:  1 18 2\n",
      "Ocorrências dos termos de busca no texto 223:  84 106 8\n",
      "Ocorrências dos termos de busca no texto 30:  11 26 2\n",
      "Ocorrências dos termos de busca no texto 0:  120 58 7\n",
      "Ocorrências dos termos de busca no texto 226:  91 136 9\n",
      "Ocorrências dos termos de busca no texto 40:  3 13 1\n",
      "Ocorrências dos termos de busca no texto 231:  37 92 6\n",
      "Ocorrências dos termos de busca no texto 82:  5 26 2\n",
      "Ocorrências dos termos de busca no texto 112:  19 19 1\n",
      "Ocorrências dos termos de busca no texto 11:  22 19 1\n",
      "Ocorrências dos termos de busca no texto 224:  56 118 6\n",
      "Ocorrências dos termos de busca no texto 62:  3 17 1\n",
      "Ocorrências dos termos de busca no texto 140:  29 15 1\n",
      "Ocorrências dos termos de busca no texto 25:  29 33 1\n",
      "Ocorrências dos termos de busca no texto 60:  6 21 1\n",
      "Ocorrências dos termos de busca no texto 1:  32 118 4\n",
      "Ocorrências dos termos de busca no texto 63:  20 64 2\n",
      "Ocorrências dos termos de busca no texto 225:  58 128 2\n",
      "Ocorrências dos termos de busca no texto 20:  32 11 1\n",
      "Ocorrências dos termos de busca no texto 174:  2 2 0\n",
      "Ocorrências dos termos de busca no texto 48:  7 7 0\n",
      "Ocorrências dos termos de busca no texto 33:  12 12 0\n",
      "Ocorrências dos termos de busca no texto 187:  3 3 0\n",
      "Ocorrências dos termos de busca no texto 175:  1 1 0\n",
      "Ocorrências dos termos de busca no texto 159:  1 1 0\n",
      "Ocorrências dos termos de busca no texto 18:  3 3 0\n",
      "Ocorrências dos termos de busca no texto 218:  31 27 0\n",
      "Ocorrências dos termos de busca no texto 23:  6 7 0\n",
      "Ocorrências dos termos de busca no texto 153:  5 6 0\n",
      "Ocorrências dos termos de busca no texto 221:  8 10 0\n",
      "Ocorrências dos termos de busca no texto 151:  12 15 0\n",
      "Ocorrências dos termos de busca no texto 24:  16 13 0\n",
      "Ocorrências dos termos de busca no texto 54:  9 7 0\n",
      "Ocorrências dos termos de busca no texto 47:  19 26 0\n",
      "Ocorrências dos termos de busca no texto 76:  8 11 0\n",
      "Ocorrências dos termos de busca no texto 190:  4 3 0\n",
      "Ocorrências dos termos de busca no texto 10:  20 15 0\n",
      "Ocorrências dos termos de busca no texto 65:  4 3 0\n",
      "Ocorrências dos termos de busca no texto 66:  3 32 1\n",
      "Ocorrências dos termos de busca no texto 13:  18 13 0\n",
      "Ocorrências dos termos de busca no texto 41:  6 9 0\n",
      "Ocorrências dos termos de busca no texto 135:  10 7 0\n",
      "Ocorrências dos termos de busca no texto 26:  26 18 0\n",
      "Ocorrências dos termos de busca no texto 32:  3 5 0\n",
      "Ocorrências dos termos de busca no texto 118:  1 2 0\n",
      "Ocorrências dos termos de busca no texto 69:  1 2 0\n",
      "Ocorrências dos termos de busca no texto 37:  12 27 0\n",
      "Ocorrências dos termos de busca no texto 86:  4 9 0\n",
      "Ocorrências dos termos de busca no texto 81:  3 7 0\n",
      "Ocorrências dos termos de busca no texto 35:  19 45 0\n",
      "Ocorrências dos termos de busca no texto 220:  16 9 0\n",
      "Ocorrências dos termos de busca no texto 51:  10 24 0\n",
      "Ocorrências dos termos de busca no texto 117:  2 5 0\n",
      "Ocorrências dos termos de busca no texto 80:  3 9 0\n",
      "Ocorrências dos termos de busca no texto 172:  4 2 0\n",
      "Ocorrências dos termos de busca no texto 157:  2 1 0\n",
      "Ocorrências dos termos de busca no texto 144:  2 1 0\n",
      "Ocorrências dos termos de busca no texto 43:  4 19 0\n",
      "Ocorrências dos termos de busca no texto 91:  1 5 0\n",
      "Ocorrências dos termos de busca no texto 50:  3 16 0\n",
      "Ocorrências dos termos de busca no texto 12:  57 25 0\n",
      "Ocorrências dos termos de busca no texto 22:  36 15 0\n",
      "Ocorrências dos termos de busca no texto 122:  5 2 0\n",
      "Ocorrências dos termos de busca no texto 171:  0 1 0\n",
      "Ocorrências dos termos de busca no texto 110:  0 1 0\n",
      "Ocorrências dos termos de busca no texto 99:  0 1 0\n",
      "Ocorrências dos termos de busca no texto 93:  0 2 0\n",
      "Ocorrências dos termos de busca no texto 58:  3 1 0\n",
      "Ocorrências dos termos de busca no texto 15:  11 3 0\n",
      "Ocorrências dos termos de busca no texto 148:  4 1 0\n",
      "Ocorrências dos termos de busca no texto 165:  8 2 0\n",
      "Ocorrências dos termos de busca no texto 217:  117 20 2\n",
      "Ocorrências dos termos de busca no texto 185:  35 1 2\n",
      "Ocorrências dos termos de busca no texto 154:  5 1 0\n",
      "Ocorrências dos termos de busca no texto 240:  18 0 1\n",
      "Ocorrências dos termos de busca no texto 21:  21 4 0\n",
      "Ocorrências dos termos de busca no texto 222:  91 2 4\n",
      "Ocorrências dos termos de busca no texto 139:  23 4 0\n",
      "Ocorrências dos termos de busca no texto 233:  25 0 1\n",
      "Ocorrências dos termos de busca no texto 14:  8 1 0\n",
      "Ocorrências dos termos de busca no texto 8:  8 1 0\n",
      "Ocorrências dos termos de busca no texto 234:  10 1 0\n",
      "Ocorrências dos termos de busca no texto 17:  36 3 0\n",
      "Ocorrências dos termos de busca no texto 207:  17 1 0\n",
      "Ocorrências dos termos de busca no texto 239:  4 0 0\n",
      "Ocorrências dos termos de busca no texto 238:  15 0 0\n",
      "Ocorrências dos termos de busca no texto 237:  2 0 0\n",
      "Ocorrências dos termos de busca no texto 216:  80 0 0\n",
      "Ocorrências dos termos de busca no texto 213:  3 0 0\n",
      "Ocorrências dos termos de busca no texto 204:  1 0 0\n",
      "Ocorrências dos termos de busca no texto 203:  1 0 0\n",
      "Ocorrências dos termos de busca no texto 202:  3 0 0\n",
      "Ocorrências dos termos de busca no texto 200:  1 0 0\n",
      "Ocorrências dos termos de busca no texto 198:  1 0 0\n",
      "Ocorrências dos termos de busca no texto 196:  1 0 0\n",
      "Ocorrências dos termos de busca no texto 188:  2 0 0\n",
      "Ocorrências dos termos de busca no texto 186:  6 0 0\n",
      "Ocorrências dos termos de busca no texto 184:  20 0 0\n",
      "Ocorrências dos termos de busca no texto 181:  1 0 0\n",
      "Ocorrências dos termos de busca no texto 180:  2 0 0\n",
      "Ocorrências dos termos de busca no texto 179:  5 0 0\n",
      "Ocorrências dos termos de busca no texto 178:  1 0 0\n",
      "Ocorrências dos termos de busca no texto 168:  2 0 0\n",
      "Ocorrências dos termos de busca no texto 167:  3 0 0\n",
      "Ocorrências dos termos de busca no texto 164:  1 0 0\n",
      "Ocorrências dos termos de busca no texto 163:  2 0 0\n",
      "Ocorrências dos termos de busca no texto 161:  4 0 0\n",
      "Ocorrências dos termos de busca no texto 160:  3 0 0\n",
      "Ocorrências dos termos de busca no texto 158:  3 0 0\n",
      "Ocorrências dos termos de busca no texto 155:  2 0 0\n",
      "Ocorrências dos termos de busca no texto 152:  1 0 0\n",
      "Ocorrências dos termos de busca no texto 149:  1 0 0\n",
      "Ocorrências dos termos de busca no texto 147:  1 0 0\n",
      "Ocorrências dos termos de busca no texto 145:  3 0 0\n",
      "Ocorrências dos termos de busca no texto 143:  2 0 0\n",
      "Ocorrências dos termos de busca no texto 142:  2 0 0\n",
      "Ocorrências dos termos de busca no texto 138:  1 0 0\n",
      "Ocorrências dos termos de busca no texto 119:  2 0 0\n",
      "Ocorrências dos termos de busca no texto 114:  1 0 0\n",
      "Ocorrências dos termos de busca no texto 107:  5 0 0\n",
      "Ocorrências dos termos de busca no texto 100:  1 0 0\n",
      "Ocorrências dos termos de busca no texto 70:  3 0 0\n",
      "Ocorrências dos termos de busca no texto 42:  1 0 0\n",
      "Ocorrências dos termos de busca no texto 9:  2 0 0\n"
     ]
    }
   ],
   "source": [
    "for sim,tid in resposta: \n",
    "    fd=nltk.FreqDist(WordPunctTokenizer().tokenize(textos[tid].lower()))\n",
    "    print(\"Ocorrências dos termos de busca no texto {}: \".format(tid),fd['amor'],fd['moça'],fd['bonita'])"
   ]
  },
  {
   "cell_type": "code",
   "execution_count": 259,
   "metadata": {
    "collapsed": false
   },
   "outputs": [
    {
     "data": {
      "image/png": "[encoded data removed]",
      "text/plain": [
       "<matplotlib.figure.Figure at 0x22a3e11f208>"
      ]
     },
     "metadata": {},
     "output_type": "display_data"
    }
   ],
   "source": [
    "fig = plt.figure(figsize=(10,6))\n",
    "ax = plt.gca()\n",
    "docs = 2\n",
    "vecs = [qv[:2]]\n",
    "for d in resposta[:docs]:\n",
    "    vecs.append(MN[d[1]][:2])\n",
    "    x,y = MN[d[1]][:2]\n",
    "    plt.text(x,y,'{}'.format(d[1]))\n",
    "U, V = zip(*vecs)\n",
    "x,y = zeros(docs+1), zeros(docs+1)\n",
    "plt.text(U[0],V[0],'consulta')\n",
    "plt.grid()\n",
    "ax.set_xlim(0,1)\n",
    "ax.set_ylim(0,1)\n",
    "ax.set_xlabel('amor')\n",
    "ax.set_ylabel('moça')\n",
    "ax.quiver(x,y,U,V,angles='xy',scale_units='xy', scale=1.0);"
   ]
  },
  {
   "cell_type": "markdown",
   "metadata": {},
   "source": [
    "### Exercício 2: Explorando o conceito de similaridade\n",
    "\n",
    "Construa uma matriz de similaridade (cossenos entre vetores de frequência) entre todos os textos de machado. \n",
    "Construa um histograma com os valores de similaridade, excluindo os 0s e 1s. Interprete."
   ]
  },
  {
   "cell_type": "code",
   "execution_count": 220,
   "metadata": {
    "collapsed": false
   },
   "outputs": [
    {
     "name": "stdout",
     "output_type": "stream",
     "text": [
      "[[ 1.          0.81896149  0.83046457 ...,  0.29386488  0.65654999\n",
      "   0.58979922]\n",
      " [ 0.81896149  1.          0.84636708 ...,  0.2857949   0.66699573\n",
      "   0.59418853]\n",
      " [ 0.83046457  0.84636708  1.         ...,  0.28538606  0.70631686\n",
      "   0.6081249 ]\n",
      " ..., \n",
      " [ 0.29386488  0.2857949   0.28538606 ...,  1.          0.21823833\n",
      "   0.21724236]\n",
      " [ 0.65654999  0.66699573  0.70631686 ...,  0.21823833  1.          0.49688348]\n",
      " [ 0.58979922  0.59418853  0.6081249  ...,  0.21724236  0.49688348  1.        ]]\n"
     ]
    }
   ],
   "source": [
    "vetor = TfidfVectorizer(min_df=1)\n",
    "tfidf = vetor.fit_transform(textos)\n",
    "Matriz = (tfidf * tfidf.T).A\n",
    "print (Matriz)"
   ]
  },
  {
   "cell_type": "code",
   "execution_count": 221,
   "metadata": {
    "collapsed": false
   },
   "outputs": [
    {
     "data": {
      "text/plain": [
       "<matplotlib.text.Text at 0x219c93a76d8>"
      ]
     },
     "execution_count": 221,
     "metadata": {},
     "output_type": "execute_result"
    },
    {
     "data": {
      "image/png": "[encoded data removed]",
      "text/plain": [
       "<matplotlib.figure.Figure at 0x219c9dc27f0>"
      ]
     },
     "metadata": {},
     "output_type": "display_data"
    }
   ],
   "source": [
    "plt.hist(Matriz)          \n",
    "plt.title(\"Matriz de Similaridade\")\n",
    "plt.xlabel(\"Cosseno entre vetores\")\n",
    "plt.ylabel(\"Frequência\")\n"
   ]
  },
  {
   "cell_type": "markdown",
   "metadata": {},
   "source": [
    "### Exercício 3: Usando o Gensim\n",
    "Instale o Gensim, se ainda não o tiver. Seguindo o início deste tutorial: https://radimrehurek.com/gensim/tut2.html, construa um corpus usando as classes do Gensim, mas com os textos de Machado."
   ]
  },
  {
   "cell_type": "code",
   "execution_count": 222,
   "metadata": {
    "collapsed": false
   },
   "outputs": [],
   "source": [
    "from gensim import corpora, models, similarities\n",
    "from nltk.corpus import stopwords\n",
    "from nltk.stem.snowball import PortugueseStemmer\n",
    "from collections import Counter\n",
    "from string import punctuation"
   ]
  },
  {
   "cell_type": "code",
   "execution_count": 223,
   "metadata": {
    "collapsed": true
   },
   "outputs": [],
   "source": [
    "sw = stopwords.words('portuguese')+ list(punctuation)\n",
    "stemmer = PortugueseStemmer()"
   ]
  },
  {
   "cell_type": "code",
   "execution_count": 224,
   "metadata": {
    "collapsed": false
   },
   "outputs": [],
   "source": [
    "textos_limpos = []\n",
    "c = Counter([])\n",
    "for texto in textos:\n",
    "    tlimpo = [stemmer.stem(token.lower()) for token in WordPunctTokenizer().tokenize(texto) if token not in sw]\n",
    "    c.update(tlimpo)\n",
    "    textos_limpos.append(tlimpo)\n",
    "textos_limpos = [[token for token in t if c[token]>1] for t in textos_limpos]"
   ]
  },
  {
   "cell_type": "code",
   "execution_count": 225,
   "metadata": {
    "collapsed": false
   },
   "outputs": [
    {
     "name": "stdout",
     "output_type": "stream",
     "text": [
      "Dictionary(18169 unique tokens: ['argel', 'estanh', 'repost', 'bronquit', 'açul']...)\n"
     ]
    }
   ],
   "source": [
    "dicionario = corpora.Dictionary(textos_limpos)\n",
    "dicionario.save('vocabulario.dict')\n",
    "print(dicionario)"
   ]
  },
  {
   "cell_type": "code",
   "execution_count": 232,
   "metadata": {
    "collapsed": false
   },
   "outputs": [],
   "source": [
    "corpus = [dicionario.doc2bow(d) for d in textos_limpos]\n",
    "#print(corpus)"
   ]
  },
  {
   "cell_type": "markdown",
   "metadata": {},
   "source": [
    "### Exercício 4: Indexação Semântica Latente.\n",
    "\n",
    "Ainda seguindo  o tutorial citado no exercício anterior, ajuste um modelo LSI para os documentos de machado. Interprete os resultados."
   ]
  },
  {
   "cell_type": "code",
   "execution_count": 227,
   "metadata": {
    "collapsed": true
   },
   "outputs": [],
   "source": [
    "tfidf = models.TfidfModel(corpus)"
   ]
  },
  {
   "cell_type": "code",
   "execution_count": 228,
   "metadata": {
    "collapsed": false
   },
   "outputs": [],
   "source": [
    "corpus_tfidf = tfidf[corpus]\n",
    "#for doc in corpus_tfidf:\n",
    "#    print(doc)"
   ]
  },
  {
   "cell_type": "code",
   "execution_count": 229,
   "metadata": {
    "collapsed": true
   },
   "outputs": [],
   "source": [
    "lsi = models.LsiModel(corpus_tfidf, id2word=dicionario, num_topics=2)\n",
    "corpus_lsi = lsi[corpus_tfidf]"
   ]
  },
  {
   "cell_type": "code",
   "execution_count": 230,
   "metadata": {
    "collapsed": false
   },
   "outputs": [
    {
     "data": {
      "text/plain": [
       "[(0,\n",
       "  '0.344*\"--\" + 0.270*\"\\x97\" + 0.104*\"sr\" + 0.086*\"poet\" + 0.078*\"luís\" + 0.070*\"...\" + 0.061*\"d\" + 0.060*\"crític\" + 0.057*\"camil\" + 0.057*\"vers\"'),\n",
       " (1,\n",
       "  '0.866*\"--\" + -0.244*\"\\x97\" + 0.078*\"félix\" + 0.070*\"helen\" + 0.052*\"cavalc\" + 0.050*\"beatriz\" + 0.049*\"oliv\" + 0.046*\"elis\" + 0.043*\"estáci\" + 0.043*\"lalau\"')]"
      ]
     },
     "execution_count": 230,
     "metadata": {},
     "output_type": "execute_result"
    }
   ],
   "source": [
    "lsi.print_topics(2)"
   ]
  },
  {
   "cell_type": "code",
   "execution_count": 231,
   "metadata": {
    "collapsed": false
   },
   "outputs": [
    {
     "name": "stdout",
     "output_type": "stream",
     "text": [
      "[(0, 0.33927447814519496), (1, -0.1433103274229369)]\n",
      "[(0, 0.47197344459087742), (1, 0.6144092938016944)]\n",
      "[(0, 0.39661001962092196), (1, -0.18032865145427499)]\n",
      "[(0, 0.49385636238754821), (1, -0.21996762385058305)]\n",
      "[(0, 0.43669002212331526), (1, -0.19484991953285394)]\n",
      "[(0, 0.30111556689560665), (1, -0.12886837899405432)]\n",
      "[(0, 0.41138260938512389), (1, -0.20378005343819172)]\n",
      "[(0, 0.19757170592984899), (1, -0.096198543396806085)]\n",
      "[(0, 0.22297797141329856), (1, -0.072715708251779199)]\n",
      "[(0, 0.13805458669757337), (1, -0.052541698893815651)]\n",
      "[(0, 0.10871693786283858), (1, -0.051736783087305172)]\n",
      "[(0, 0.17879223243879103), (1, -0.081052338126808926)]\n",
      "[(0, 0.15238590884795075), (1, -0.050701227806008942)]\n",
      "[(0, 0.18708695877819184), (1, -0.095060301832528477)]\n",
      "[(0, 0.29839335169409681), (1, -0.11526136238661687)]\n",
      "[(0, 0.20496334341741523), (1, -0.099221074373396015)]\n",
      "[(0, 0.22291863450406954), (1, -0.11690224333461269)]\n",
      "[(0, 0.10278555511019719), (1, -0.050249742548271248)]\n",
      "[(0, 0.11144435355567708), (1, -0.057108378893771211)]\n",
      "[(0, 0.14614356715180904), (1, -0.045986399671709838)]\n",
      "[(0, 0.079748173604744649), (1, -0.032267618772886399)]\n",
      "[(0, 0.1325050537989064), (1, -0.073317929504208318)]\n",
      "[(0, 0.1290088401016671), (1, -0.072610523990161463)]\n",
      "[(0, 0.29631118868638784), (1, -0.12077915478490249)]\n",
      "[(0, 0.13199939558346052), (1, -0.042027362430627574)]\n",
      "[(0, 0.13497867869051944), (1, -0.049253971027201852)]\n",
      "[(0, 0.29586269555623096), (1, -0.14458848478394262)]\n",
      "[(0, 0.17211292042152906), (1, -0.090047541059799077)]\n",
      "[(0, 0.1040760243721577), (1, -0.050716464465528063)]\n",
      "[(0, 0.20052131756413152), (1, -0.09610778144155914)]\n",
      "[(0, 0.26253739149807909), (1, -0.14123761057642847)]\n",
      "[(0, 0.11463155821169368), (1, -0.063587279243258341)]\n",
      "[(0, 0.19323331055534945), (1, -0.089402297325284916)]\n",
      "[(0, 0.1716119801756352), (1, -0.084234451756949921)]\n",
      "[(0, 0.083323417115921852), (1, -0.040525981014220475)]\n",
      "[(0, 0.20130559014171781), (1, -0.066790432714732631)]\n",
      "[(0, 0.19027675947857151), (1, -0.11220766225392825)]\n",
      "[(0, 0.16497858298940168), (1, -0.069521522217166884)]\n",
      "[(0, 0.16684720073737272), (1, -0.094431818861659675)]\n",
      "[(0, 0.17494943204153604), (1, -0.10620438117753343)]\n",
      "[(0, 0.15496149039468771), (1, -0.088292775575326277)]\n",
      "[(0, 0.11286913048099732), (1, -0.031678382364520474)]\n",
      "[(0, 0.21523091453118334), (1, -0.11541228856802603)]\n",
      "[(0, 0.09413354895605168), (1, -0.046771369313829872)]\n",
      "[(0, 0.16970408879939075), (1, -0.099751331341758329)]\n",
      "[(0, 0.20124211622161756), (1, -0.12061466065238795)]\n",
      "[(0, 0.27751181282522674), (1, -0.15628918749163892)]\n",
      "[(0, 0.077590162174666188), (1, -0.034378386107544665)]\n",
      "[(0, 0.17864973560850786), (1, -0.095989185943163136)]\n",
      "[(0, 0.11006094516757957), (1, -0.049114420485256757)]\n",
      "[(0, 0.2051039143201264), (1, -0.12061553787665358)]\n",
      "[(0, 0.083371427538992876), (1, -0.02923940866951056)]\n",
      "[(0, 0.13718758053706415), (1, -0.079452093968639309)]\n",
      "[(0, 0.16331331561665094), (1, -0.086517304478772178)]\n",
      "[(0, 0.1249228674907245), (1, -0.06994252098873871)]\n",
      "[(0, 0.14182630948139521), (1, -0.086368956536240979)]\n",
      "[(0, 0.19720623245759117), (1, -0.10871207737565979)]\n",
      "[(0, 0.21615976124027586), (1, -0.11985275979008886)]\n",
      "[(0, 0.14718827037136931), (1, -0.076988172562379914)]\n",
      "[(0, 0.15410301094221976), (1, -0.07591336182583576)]\n",
      "[(0, 0.14845601346460138), (1, -0.08516745070029097)]\n",
      "[(0, 0.14858837071508402), (1, -0.072812851707124329)]\n",
      "[(0, 0.12452049572699769), (1, -0.074189494735006203)]\n",
      "[(0, 0.19460915959265274), (1, -0.098738746727147955)]\n",
      "[(0, 0.21702008404547404), (1, -0.12499079663649168)]\n",
      "[(0, 0.24229357830072504), (1, -0.13259632261882656)]\n",
      "[(0, 0.12475505621895128), (1, -0.06185824678626986)]\n",
      "[(0, 0.14085435685026082), (1, -0.082809691062800242)]\n",
      "[(0, 0.12535396033527271), (1, -0.072447528979288217)]\n",
      "[(0, 0.18297846520520855), (1, -0.080300046236194036)]\n",
      "[(0, 0.13935665621222615), (1, -0.061797203522036069)]\n",
      "[(0, 0.15490468917863828), (1, -0.068388439584688931)]\n",
      "[(0, 0.073583600994452797), (1, 0.025297801540345704)]\n",
      "[(0, 0.069451717531350182), (1, -0.026627315688213384)]\n",
      "[(0, 0.12178363472859394), (1, -0.045237521040434936)]\n",
      "[(0, 0.127850866284201), (1, -0.062162910315109544)]\n",
      "[(0, 0.10993457122085157), (1, -0.054739796190316783)]\n",
      "[(0, 0.19906095597854867), (1, -0.076917642106302114)]\n",
      "[(0, 0.044396288999518606), (1, -0.015005360507399456)]\n",
      "[(0, 0.080302167195195936), (1, -0.037845101414199833)]\n",
      "[(0, 0.099536577632186596), (1, -0.048254488203845043)]\n",
      "[(0, 0.24306938572728568), (1, -0.12138675534286278)]\n",
      "[(0, 0.14377606882605395), (1, -0.090117822342604417)]\n",
      "[(0, 0.13239909596800239), (1, -0.067517201740447771)]\n",
      "[(0, 0.23360882624124063), (1, -0.13368998967431175)]\n",
      "[(0, 0.39925254162355711), (1, 0.52848101242681955)]\n",
      "[(0, 0.26914823417214134), (1, 0.39739421488697491)]\n",
      "[(0, 0.23809185383354781), (1, 0.271730022786206)]\n",
      "[(0, 0.1471256294894388), (1, -0.067752034686714327)]\n",
      "[(0, 0.14489427727143464), (1, -0.06897191721618183)]\n",
      "[(0, 0.12654191098661774), (1, -0.063084668406208896)]\n",
      "[(0, 0.089173371386753797), (1, -0.045279831127378149)]\n",
      "[(0, 0.092323376456197495), (1, -0.044167277665917472)]\n",
      "[(0, 0.13983753542950908), (1, -0.071463527263264437)]\n",
      "[(0, 0.16457853471034736), (1, -0.083364649407534019)]\n",
      "[(0, 0.19583600497703135), (1, -0.089674403326150398)]\n",
      "[(0, 0.19444690682094212), (1, -0.10759828201354336)]\n",
      "[(0, 0.10017064042236741), (1, -0.041403559450878882)]\n",
      "[(0, 0.15823248038577928), (1, -0.076694758801247043)]\n",
      "[(0, 0.11251985708868732), (1, -0.061585370761967878)]\n",
      "[(0, 0.11187888479694259), (1, -0.036246907169880188)]\n",
      "[(0, 0.046341344240852303), (1, -0.013797835400666114)]\n",
      "[(0, 0.10695536553846037), (1, -0.06275090596559367)]\n",
      "[(0, 0.16347307275008371), (1, -0.089044887794523464)]\n",
      "[(0, 0.18016309200455932), (1, -0.098551516334570571)]\n",
      "[(0, 0.15660093412696485), (1, -0.040133725032543095)]\n",
      "[(0, 0.11507227479550007), (1, -0.054259195609673863)]\n",
      "[(0, 0.22572842997400996), (1, -0.10782160005640828)]\n",
      "[(0, 0.19889485783900746), (1, -0.088110537824205748)]\n",
      "[(0, 0.22543577827088093), (1, -0.1125179775553718)]\n",
      "[(0, 0.11658688540160127), (1, -0.040935200626208257)]\n",
      "[(0, 0.10502115187839253), (1, -0.03704053477998577)]\n",
      "[(0, 0.10687583911838733), (1, -0.040169614179986983)]\n",
      "[(0, 0.19570563730296184), (1, -0.072711028347675566)]\n",
      "[(0, 0.15286620464927292), (1, -0.072951877548259894)]\n",
      "[(0, 0.17992574340188119), (1, -0.08352868514691951)]\n",
      "[(0, 0.065246110029810747), (1, -0.030833444187844672)]\n",
      "[(0, 0.17705536194716381), (1, -0.073243218812766672)]\n",
      "[(0, 0.12851348492930773), (1, -0.058068020819334647)]\n",
      "[(0, 0.12419641132115045), (1, -0.062365915251837462)]\n",
      "[(0, 0.14347581323115063), (1, -0.084043469255939918)]\n",
      "[(0, 0.22057542099664224), (1, -0.1101523818520659)]\n",
      "[(0, 0.2210151246743112), (1, -0.11248233092720375)]\n",
      "[(0, 0.11098164202094082), (1, -0.065726436310573497)]\n",
      "[(0, 0.16922529666218739), (1, -0.071603911558402872)]\n",
      "[(0, 0.14341453503838297), (1, -0.077240737288520586)]\n",
      "[(0, 0.13382321962977645), (1, -0.063905883931701504)]\n",
      "[(0, 0.1744347771107988), (1, -0.074390245487196763)]\n",
      "[(0, 0.27570409560368137), (1, -0.11699323705536689)]\n",
      "[(0, 0.18429025256117904), (1, -0.10138067816254516)]\n",
      "[(0, 0.15482115274762698), (1, -0.062772484583184171)]\n",
      "[(0, 0.30651107445639597), (1, -0.1305537992536793)]\n",
      "[(0, 0.13554576406607646), (1, -0.073123405292644592)]\n",
      "[(0, 0.20364298337242681), (1, -0.08708276318414937)]\n",
      "[(0, 0.17826388297317242), (1, -0.077407055198962793)]\n",
      "[(0, 0.19922208602837932), (1, -0.098367912683374525)]\n",
      "[(0, 0.13742234220564997), (1, -0.086762932575015522)]\n",
      "[(0, 0.25244300061091995), (1, -0.056526006034026952)]\n",
      "[(0, 0.27637023764938606), (1, 0.16190982481685298)]\n",
      "[(0, 0.47455667567241505), (1, 0.31890962301386483)]\n",
      "[(0, 0.5407806843031685), (1, 0.17140768131028525)]\n",
      "[(0, 0.23806490960294188), (1, -0.018827420564865933)]\n",
      "[(0, 0.19362750173542015), (1, -0.057206943482344175)]\n",
      "[(0, 0.131559356354394), (1, -0.033815312333594014)]\n",
      "[(0, 0.23838064877927034), (1, -0.03470494827497584)]\n",
      "[(0, 0.25202120132692196), (1, -0.068417562855856734)]\n",
      "[(0, 0.16077618320641118), (1, -0.054824176460357636)]\n",
      "[(0, 0.20696340130809418), (1, -0.075832460364501419)]\n",
      "[(0, 0.13122599901908252), (1, -0.025109735966236602)]\n",
      "[(0, 0.19876296429916357), (1, -0.080156311195113225)]\n",
      "[(0, 0.15322987493230383), (1, -0.057029029353363576)]\n",
      "[(0, 0.38654528376397362), (1, -0.06675400809260329)]\n",
      "[(0, 0.21470333920886434), (1, -0.079139372809976682)]\n",
      "[(0, 0.12581663982940058), (1, -0.038646642255599391)]\n",
      "[(0, 0.13264625773141853), (1, -0.048547318300401633)]\n",
      "[(0, 0.15081890820420929), (1, -0.05676190778938596)]\n",
      "[(0, 0.15640109660624774), (1, -0.043344925958995084)]\n",
      "[(0, 0.21784028786282464), (1, -0.062602148509657882)]\n",
      "[(0, 0.25250810970236226), (1, -0.076846314421149045)]\n",
      "[(0, 0.15073530610475189), (1, -0.065253627108787488)]\n",
      "[(0, 0.1606414353935777), (1, -0.047905210233447001)]\n",
      "[(0, 0.31399649449937672), (1, -0.098325251163097038)]\n",
      "[(0, 0.16189678225805562), (1, -0.066052974555159599)]\n",
      "[(0, 0.21394561262728801), (1, -0.068637665751795363)]\n",
      "[(0, 0.21436602932438542), (1, -0.086907729674931822)]\n",
      "[(0, 0.36688275662620401), (1, -0.13774046701061815)]\n",
      "[(0, 0.10980033774519263), (1, -0.031221642706063046)]\n",
      "[(0, 0.15545923312923945), (1, -0.054127442404159516)]\n",
      "[(0, 0.19063979101938003), (1, -0.088855985257583911)]\n",
      "[(0, 0.11535419173824317), (1, -0.047861020460990743)]\n",
      "[(0, 0.14153977585745217), (1, -0.061065504990125072)]\n",
      "[(0, 0.22616004679214716), (1, -0.074688468715556997)]\n",
      "[(0, 0.15449294623043369), (1, -0.0743276562716675)]\n",
      "[(0, 0.17970983341924959), (1, -0.052082008577268725)]\n",
      "[(0, 0.19187492072727408), (1, -0.079026288215671273)]\n",
      "[(0, 0.15245232406858875), (1, -0.061988492614905279)]\n",
      "[(0, 0.18017554913416894), (1, -0.064985901771177343)]\n",
      "[(0, 0.11316076479160138), (1, -0.042803690419694736)]\n",
      "[(0, 0.14304556310232611), (1, -0.043743521448529658)]\n",
      "[(0, 0.16220877626487279), (1, -0.064020633430570836)]\n",
      "[(0, 0.15256723353077975), (1, -0.04719164050987356)]\n",
      "[(0, 0.17040722036316239), (1, -0.062740799875582745)]\n",
      "[(0, 0.51137006332615798), (1, 0.06064283318173859)]\n",
      "[(0, 0.42492043051065775), (1, 0.28702501791606372)]\n",
      "[(0, 0.47280617753189413), (1, -0.049385359903264675)]\n",
      "[(0, 0.58552141219037579), (1, -0.15344289140687759)]\n",
      "[(0, 0.26694083049364847), (1, 0.083906413077394937)]\n",
      "[(0, 0.44358027568260222), (1, 0.32260241968526293)]\n",
      "[(0, 0.52855986982853753), (1, 0.27030052356638679)]\n",
      "[(0, 0.33013952768643068), (1, 0.24759552622000069)]\n",
      "[(0, 0.42390109507485407), (1, -0.12516202200433935)]\n",
      "[(0, 0.49829520204912192), (1, -0.17396391147037427)]\n",
      "[(0, 0.4658458577566813), (1, -0.17547558144836017)]\n",
      "[(0, 0.67090141095011446), (1, -0.21916830006146842)]\n",
      "[(0, 0.2361427837051446), (1, 0.079361893743348885)]\n",
      "[(0, 0.1674483644447089), (1, 0.090840490263968329)]\n",
      "[(0, 0.30759919537105135), (1, 0.2892506595779028)]\n",
      "[(0, 0.091435158768667105), (1, -0.031237586891951521)]\n",
      "[(0, 0.1670513437188062), (1, 0.15683534827173864)]\n",
      "[(0, 0.099650641953746857), (1, -0.031133548221980192)]\n",
      "[(0, 0.13777436184076566), (1, 0.00016934883993458301)]\n",
      "[(0, 0.10397737236791527), (1, -0.033892124760349772)]\n",
      "[(0, 0.33588513734187558), (1, 0.15532376284894772)]\n",
      "[(0, 0.13936835157516025), (1, 0.0059978918004675585)]\n",
      "[(0, 0.062487784568558837), (1, -0.016767073419087623)]\n",
      "[(0, 0.27776245582945164), (1, 0.00096448428176591999)]\n",
      "[(0, 0.24247636855858271), (1, 0.27340314108027142)]\n",
      "[(0, 0.21799528031957577), (1, -0.050482994893556836)]\n",
      "[(0, 0.16204896840095909), (1, 0.0078257369709937036)]\n",
      "[(0, 0.15614562309891472), (1, 0.10143430930696143)]\n",
      "[(0, 0.20482062263653311), (1, -0.065097018944439811)]\n",
      "[(0, 0.06945379002100413), (1, -0.020296978832836654)]\n",
      "[(0, 0.12047754565496181), (1, 0.036710657312402202)]\n",
      "[(0, 0.15596662052104743), (1, 0.0071989199404868072)]\n",
      "[(0, 0.13460886880016373), (1, -0.047632407380006646)]\n",
      "[(0, 0.18187417847298218), (1, -0.058515977964593818)]\n",
      "[(0, 0.36973134262464125), (1, -0.15499577001573137)]\n",
      "[(0, 0.1811517576022128), (1, -0.072078756950085907)]\n",
      "[(0, 0.33290784311712163), (1, -0.13041977562169049)]\n",
      "[(0, 0.25283160228637919), (1, -0.099338824633784864)]\n",
      "[(0, 0.29398304764088551), (1, -0.12003658402283585)]\n",
      "[(0, 0.27230527026250501), (1, -0.097277365980333638)]\n",
      "[(0, 0.37417685166994441), (1, -0.14628000410954481)]\n",
      "[(0, 0.2855421039511804), (1, 0.47001311983374666)]\n",
      "[(0, 0.14759627061374875), (1, -0.068622245766646245)]\n",
      "[(0, 0.28534659959466374), (1, 0.44623329380236565)]\n",
      "[(0, 0.31457362898739899), (1, 0.43761681672152147)]\n",
      "[(0, 0.28241910355362104), (1, -0.127927683060578)]\n",
      "[(0, 0.34876967787711494), (1, 0.53981212407224544)]\n",
      "[(0, 0.1429952161875746), (1, -0.073802799577632403)]\n",
      "[(0, 0.20595444195495036), (1, -0.099912001108616671)]\n",
      "[(0, 0.42008738136805629), (1, -0.18758854124768101)]\n",
      "[(0, 0.19705646598652646), (1, -0.090489490272100556)]\n",
      "[(0, 0.32242671452294436), (1, 0.65374975058853568)]\n",
      "[(0, 0.041043431313427921), (1, 0.0052320367630701581)]\n",
      "[(0, 0.14014866673279838), (1, -0.051702519680853272)]\n",
      "[(0, 0.12827073137958123), (1, -0.013475691228910932)]\n",
      "[(0, 0.099561724840154478), (1, -0.0029351650187641569)]\n",
      "[(0, 0.10010863651813276), (1, 0.014380025623694287)]\n",
      "[(0, 0.30826967203742983), (1, 0.59769794128118481)]\n",
      "[(0, 0.32298879992114188), (1, 0.6288583654246005)]\n",
      "[(0, 0.25290909064070244), (1, 0.50693888491822514)]\n",
      "[(0, 0.30215772355463139), (1, 0.62977270461551127)]\n",
      "[(0, 0.21781953939825227), (1, 0.48881758126771485)]\n",
      "[(0, 0.13353183715430159), (1, -0.05304945938004977)]\n",
      "[(0, 0.33731255358636864), (1, 0.70454468261277026)]\n"
     ]
    }
   ],
   "source": [
    "for doc in corpus_lsi: \n",
    "    print(doc)"
   ]
  }
 ],
 "metadata": {
  "kernelspec": {
   "display_name": "Python 3",
   "language": "python",
   "name": "python3"
  },
  "language_info": {
   "codemirror_mode": {
    "name": "ipython",
    "version": 3
   },
   "file_extension": ".py",
   "mimetype": "text/x-python",
   "name": "python",
   "nbconvert_exporter": "python",
   "pygments_lexer": "ipython3",
   "version": "3.5.1"
  }
 },
 "nbformat": 4,
 "nbformat_minor": 0
}
